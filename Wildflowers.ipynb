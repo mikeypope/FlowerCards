{
 "cells": [
  {
   "cell_type": "code",
   "execution_count": 8,
   "metadata": {},
   "outputs": [],
   "source": [
    "from geopy.geocoders import OpenMapQuest\n",
    "import requests\n",
    "from selenium import webdriver\n",
    "from selenium.webdriver.common.by import By\n",
    "from selenium.webdriver.chrome.service import Service as BraveService\n",
    "from webdriver_manager.chrome import ChromeDriverManager\n",
    "from webdriver_manager.core.utils import ChromeType\n",
    "import time\n",
    "from selenium.webdriver.support.ui import WebDriverWait\n",
    "from selenium.webdriver.support import expected_conditions as EC\n",
    "import os\n",
    "from datetime import date\n",
    "import re"
   ]
  },
  {
   "cell_type": "code",
   "execution_count": 21,
   "metadata": {},
   "outputs": [],
   "source": [
    "\n",
    "\n",
    "#driver = webdriver.Chrome(service=BraveService(ChromeDriverManager(chrome_type=ChromeType.BRAVE).install()))\n",
    "#scientificAtoZurl = 'https://www.smmflowers.org/mobile/ScientificNameLinks_Mob.htm'\n",
    "#driver.get(scientificAtoZurl)\n",
    "\n",
    "#AtoZlink = []\n",
    "#elems = driver.find_elements(By.TAG_NAME,\"a\")\n",
    "#for elem in elems:\n",
    "#        AtoZlink.append(elem.get_attribute(\"href\"))\n",
    "\n",
    "#['https://www.smmflowers.org/mobile/ScientificNameLinks_A.htm#SN_Alpha_A', 'https://www.smmflowers.org/mobile/ScientificNameLinks_B.htm#SN_Alpha_B', 'https://www.smmflowers.org/mobile/ScientificNameLinks_C.htm#SN_Alpha_C', 'https://www.smmflowers.org/mobile/ScientificNameLinks_D.htm#SN_Alpha_D', 'https://www.smmflowers.org/mobile/ScientificNameLinks_E.htm#SN_Alpha_E', 'https://www.smmflowers.org/mobile/ScientificNameLinks_F.htm#SN_Alpha_F', 'https://www.smmflowers.org/mobile/ScientificNameLinks_G.htm#SN_Alpha_G', 'https://www.smmflowers.org/mobile/ScientificNameLinks_H.htm#SN_Alpha_H', 'https://www.smmflowers.org/mobile/ScientificNameLinks_I.htm#SN_Alpha_I', 'https://www.smmflowers.org/mobile/ScientificNameLinks_J.htm#SN_Alpha_J', 'https://www.smmflowers.org/mobile/ScientificNameLinks_K.htm#SN_Alpha_K', 'https://www.smmflowers.org/mobile/ScientificNameLinks_L.htm#SN_Alpha_L', 'https://www.smmflowers.org/mobile/ScientificNameLinks_M.htm#SN_Alpha_M', 'https://www.smmflowers.org/mobile/ScientificNameLinks_N.htm#SN_Alpha_N', 'https://www.smmflowers.org/mobile/ScientificNameLinks_O.htm#SN_Alpha_O', 'https://www.smmflowers.org/mobile/ScientificNameLinks_P.htm#SN_Alpha_P', 'https://www.smmflowers.org/mobile/ScientificNameLinks_Q.htm#SN_Alpha_Q', 'https://www.smmflowers.org/mobile/ScientificNameLinks_R.htm#SN_Alpha_R', 'https://www.smmflowers.org/mobile/ScientificNameLinks_S.htm#SN_Alpha_S', 'https://www.smmflowers.org/mobile/ScientificNameLinks_T.htm#SN_Alpha_T', 'https://www.smmflowers.org/mobile/ScientificNameLinks_U.htm#SN_Alpha_U', 'https://www.smmflowers.org/mobile/ScientificNameLinks_V.htm#SN_Alpha_V', 'https://www.smmflowers.org/mobile/ScientificNameLinks_W.htm#SN_Alpha_W', 'https://www.smmflowers.org/mobile/ScientificNameLinks_X.htm#SN_Alpha_X', 'https://www.smmflowers.org/mobile/ScientificNameLinks_Y.htm#SN_Alpha_Y', 'https://www.smmflowers.org/mobile/ScientificNameLinks_Z.htm#SN_Alpha_Z']\n",
    "    "
   ]
  },
  {
   "cell_type": "code",
   "execution_count": 13,
   "metadata": {},
   "outputs": [],
   "source": [
    "driver = webdriver.Chrome(service=BraveService(ChromeDriverManager(chrome_type=ChromeType.BRAVE).install()))\n",
    "link = 'https://www.smmflowers.org/mobile/species/Abronia_maritima.htm'\n",
    "driver.get(link)"
   ]
  },
  {
   "cell_type": "code",
   "execution_count": 16,
   "metadata": {},
   "outputs": [
    {
     "name": "stdout",
     "output_type": "stream",
     "text": [
      "['https://www.smmflowers.org/mobile/thumbs/S6540aLCSP200.jpg', 'https://www.smmflowers.org/mobile/pics/S61389aOBE.jpg', 'https://www.smmflowers.org/mobile/pics/S61382aOBE.jpg', 'https://www.smmflowers.org/mobile/pics/S6527aLCSP.jpg', 'https://www.smmflowers.org/mobile/pics/S6541aLCSP.jpg', 'https://www.smmflowers.org/mobile/pics/S6537LCSP.jpg', 'https://www.smmflowers.org/mobile/pics/S61395aOBE.jpg', 'https://www.smmflowers.org/mobile/pics/S61425aOBE.jpg', 'https://www.smmflowers.org/mobile/graphics/NPSarrowSmall.gif']\n"
     ]
    }
   ],
   "source": [
    "imgs = driver.find_elements(By.TAG_NAME,\"img\")\n",
    "imglinks = []\n",
    "for img in imgs:\n",
    "    imglink = img.get_attribute(\"src\")\n",
    "    imglinks.append(imglink)\n",
    "\n",
    "    \n",
    "\n",
    "\n",
    "\n",
    "\n"
   ]
  },
  {
   "cell_type": "code",
   "execution_count": 27,
   "metadata": {},
   "outputs": [
    {
     "name": "stdout",
     "output_type": "stream",
     "text": [
      "['https://www.smmflowers.org/mobile/thumbs/S6540aLCSP200.jpg', 'https://www.smmflowers.org/mobile/pics/S61389aOBE.jpg', 'https://www.smmflowers.org/mobile/pics/S61382aOBE.jpg', 'https://www.smmflowers.org/mobile/pics/S6527aLCSP.jpg', 'https://www.smmflowers.org/mobile/pics/S6541aLCSP.jpg', 'https://www.smmflowers.org/mobile/pics/S6537LCSP.jpg', 'https://www.smmflowers.org/mobile/pics/S61395aOBE.jpg', 'https://www.smmflowers.org/mobile/pics/S61425aOBE.jpg']\n"
     ]
    }
   ],
   "source": [
    "for link in imglinks:\n",
    "    if re.match(link, 'https://www.smmflowers.org/mobile/graphics/NPSarrowSmall.gif') != None:\n",
    "        imglinks.remove(link)\n",
    "    else:\n",
    "        pass\n",
    "\n"
   ]
  },
  {
   "cell_type": "code",
   "execution_count": 36,
   "metadata": {},
   "outputs": [
    {
     "name": "stdout",
     "output_type": "stream",
     "text": [
      "S6540aLCSP200.jpg\n",
      "C:\\Apps\\FlowerCards\\SpeciesDetail\\S6540aLCSP200.jpg\\S6540aLCSP200.jpg\n"
     ]
    },
    {
     "ename": "HTTPError",
     "evalue": "HTTP Error 406: Not Acceptable",
     "output_type": "error",
     "traceback": [
      "\u001b[1;31m---------------------------------------------------------------------------\u001b[0m",
      "\u001b[1;31mHTTPError\u001b[0m                                 Traceback (most recent call last)",
      "Cell \u001b[1;32mIn[36], line 10\u001b[0m\n\u001b[0;32m      8\u001b[0m filename \u001b[39m=\u001b[39m os\u001b[39m.\u001b[39mpath\u001b[39m.\u001b[39mjoin(foldername, link\u001b[39m.\u001b[39msplit(\u001b[39m'\u001b[39m\u001b[39m/\u001b[39m\u001b[39m'\u001b[39m)[\u001b[39m-\u001b[39m\u001b[39m1\u001b[39m])\n\u001b[0;32m      9\u001b[0m \u001b[39mprint\u001b[39m(filename)\n\u001b[1;32m---> 10\u001b[0m urllib\u001b[39m.\u001b[39;49mrequest\u001b[39m.\u001b[39;49murlretrieve(link,filename)\n",
      "File \u001b[1;32mC:\\Program Files\\Python310\\lib\\urllib\\request.py:241\u001b[0m, in \u001b[0;36murlretrieve\u001b[1;34m(url, filename, reporthook, data)\u001b[0m\n\u001b[0;32m    224\u001b[0m \u001b[39m\u001b[39m\u001b[39m\"\"\"\u001b[39;00m\n\u001b[0;32m    225\u001b[0m \u001b[39mRetrieve a URL into a temporary location on disk.\u001b[39;00m\n\u001b[0;32m    226\u001b[0m \n\u001b[1;32m   (...)\u001b[0m\n\u001b[0;32m    237\u001b[0m \u001b[39mdata file as well as the resulting HTTPMessage object.\u001b[39;00m\n\u001b[0;32m    238\u001b[0m \u001b[39m\"\"\"\u001b[39;00m\n\u001b[0;32m    239\u001b[0m url_type, path \u001b[39m=\u001b[39m _splittype(url)\n\u001b[1;32m--> 241\u001b[0m \u001b[39mwith\u001b[39;00m contextlib\u001b[39m.\u001b[39mclosing(urlopen(url, data)) \u001b[39mas\u001b[39;00m fp:\n\u001b[0;32m    242\u001b[0m     headers \u001b[39m=\u001b[39m fp\u001b[39m.\u001b[39minfo()\n\u001b[0;32m    244\u001b[0m     \u001b[39m# Just return the local path and the \"headers\" for file://\u001b[39;00m\n\u001b[0;32m    245\u001b[0m     \u001b[39m# URLs. No sense in performing a copy unless requested.\u001b[39;00m\n",
      "File \u001b[1;32mC:\\Program Files\\Python310\\lib\\urllib\\request.py:216\u001b[0m, in \u001b[0;36murlopen\u001b[1;34m(url, data, timeout, cafile, capath, cadefault, context)\u001b[0m\n\u001b[0;32m    214\u001b[0m \u001b[39melse\u001b[39;00m:\n\u001b[0;32m    215\u001b[0m     opener \u001b[39m=\u001b[39m _opener\n\u001b[1;32m--> 216\u001b[0m \u001b[39mreturn\u001b[39;00m opener\u001b[39m.\u001b[39;49mopen(url, data, timeout)\n",
      "File \u001b[1;32mC:\\Program Files\\Python310\\lib\\urllib\\request.py:525\u001b[0m, in \u001b[0;36mOpenerDirector.open\u001b[1;34m(self, fullurl, data, timeout)\u001b[0m\n\u001b[0;32m    523\u001b[0m \u001b[39mfor\u001b[39;00m processor \u001b[39min\u001b[39;00m \u001b[39mself\u001b[39m\u001b[39m.\u001b[39mprocess_response\u001b[39m.\u001b[39mget(protocol, []):\n\u001b[0;32m    524\u001b[0m     meth \u001b[39m=\u001b[39m \u001b[39mgetattr\u001b[39m(processor, meth_name)\n\u001b[1;32m--> 525\u001b[0m     response \u001b[39m=\u001b[39m meth(req, response)\n\u001b[0;32m    527\u001b[0m \u001b[39mreturn\u001b[39;00m response\n",
      "File \u001b[1;32mC:\\Program Files\\Python310\\lib\\urllib\\request.py:634\u001b[0m, in \u001b[0;36mHTTPErrorProcessor.http_response\u001b[1;34m(self, request, response)\u001b[0m\n\u001b[0;32m    631\u001b[0m \u001b[39m# According to RFC 2616, \"2xx\" code indicates that the client's\u001b[39;00m\n\u001b[0;32m    632\u001b[0m \u001b[39m# request was successfully received, understood, and accepted.\u001b[39;00m\n\u001b[0;32m    633\u001b[0m \u001b[39mif\u001b[39;00m \u001b[39mnot\u001b[39;00m (\u001b[39m200\u001b[39m \u001b[39m<\u001b[39m\u001b[39m=\u001b[39m code \u001b[39m<\u001b[39m \u001b[39m300\u001b[39m):\n\u001b[1;32m--> 634\u001b[0m     response \u001b[39m=\u001b[39m \u001b[39mself\u001b[39;49m\u001b[39m.\u001b[39;49mparent\u001b[39m.\u001b[39;49merror(\n\u001b[0;32m    635\u001b[0m         \u001b[39m'\u001b[39;49m\u001b[39mhttp\u001b[39;49m\u001b[39m'\u001b[39;49m, request, response, code, msg, hdrs)\n\u001b[0;32m    637\u001b[0m \u001b[39mreturn\u001b[39;00m response\n",
      "File \u001b[1;32mC:\\Program Files\\Python310\\lib\\urllib\\request.py:563\u001b[0m, in \u001b[0;36mOpenerDirector.error\u001b[1;34m(self, proto, *args)\u001b[0m\n\u001b[0;32m    561\u001b[0m \u001b[39mif\u001b[39;00m http_err:\n\u001b[0;32m    562\u001b[0m     args \u001b[39m=\u001b[39m (\u001b[39mdict\u001b[39m, \u001b[39m'\u001b[39m\u001b[39mdefault\u001b[39m\u001b[39m'\u001b[39m, \u001b[39m'\u001b[39m\u001b[39mhttp_error_default\u001b[39m\u001b[39m'\u001b[39m) \u001b[39m+\u001b[39m orig_args\n\u001b[1;32m--> 563\u001b[0m     \u001b[39mreturn\u001b[39;00m \u001b[39mself\u001b[39;49m\u001b[39m.\u001b[39;49m_call_chain(\u001b[39m*\u001b[39;49margs)\n",
      "File \u001b[1;32mC:\\Program Files\\Python310\\lib\\urllib\\request.py:496\u001b[0m, in \u001b[0;36mOpenerDirector._call_chain\u001b[1;34m(self, chain, kind, meth_name, *args)\u001b[0m\n\u001b[0;32m    494\u001b[0m \u001b[39mfor\u001b[39;00m handler \u001b[39min\u001b[39;00m handlers:\n\u001b[0;32m    495\u001b[0m     func \u001b[39m=\u001b[39m \u001b[39mgetattr\u001b[39m(handler, meth_name)\n\u001b[1;32m--> 496\u001b[0m     result \u001b[39m=\u001b[39m func(\u001b[39m*\u001b[39;49margs)\n\u001b[0;32m    497\u001b[0m     \u001b[39mif\u001b[39;00m result \u001b[39mis\u001b[39;00m \u001b[39mnot\u001b[39;00m \u001b[39mNone\u001b[39;00m:\n\u001b[0;32m    498\u001b[0m         \u001b[39mreturn\u001b[39;00m result\n",
      "File \u001b[1;32mC:\\Program Files\\Python310\\lib\\urllib\\request.py:643\u001b[0m, in \u001b[0;36mHTTPDefaultErrorHandler.http_error_default\u001b[1;34m(self, req, fp, code, msg, hdrs)\u001b[0m\n\u001b[0;32m    642\u001b[0m \u001b[39mdef\u001b[39;00m \u001b[39mhttp_error_default\u001b[39m(\u001b[39mself\u001b[39m, req, fp, code, msg, hdrs):\n\u001b[1;32m--> 643\u001b[0m     \u001b[39mraise\u001b[39;00m HTTPError(req\u001b[39m.\u001b[39mfull_url, code, msg, hdrs, fp)\n",
      "\u001b[1;31mHTTPError\u001b[0m: HTTP Error 406: Not Acceptable"
     ]
    }
   ],
   "source": [
    "import urllib.request\n",
    "\n",
    "\n",
    "for link in imglinks:\n",
    "    speciesname = str(link).replace('https://www.smmflowers.org/mobile/thumbs/','').replace('.htm','')\n",
    "    print(speciesname)\n",
    "    foldername = os.path.join(\"C:\\Apps\\FlowerCards\\SpeciesDetail\",speciesname)\n",
    "    filename = os.path.join(foldername, link.split('/')[-1])\n",
    "    print(filename)\n",
    "    urllib.request.urlretrieve(link,filename)\n",
    "\n",
    "\n"
   ]
  }
 ],
 "metadata": {
  "kernelspec": {
   "display_name": ".venv",
   "language": "python",
   "name": "python3"
  },
  "language_info": {
   "codemirror_mode": {
    "name": "ipython",
    "version": 3
   },
   "file_extension": ".py",
   "mimetype": "text/x-python",
   "name": "python",
   "nbconvert_exporter": "python",
   "pygments_lexer": "ipython3",
   "version": "3.10.5"
  },
  "orig_nbformat": 4,
  "vscode": {
   "interpreter": {
    "hash": "5ad7a387cf8b3f1496a2e4ef0e34d218c514501af89e556fd59255d01f65e361"
   }
  }
 },
 "nbformat": 4,
 "nbformat_minor": 2
}
